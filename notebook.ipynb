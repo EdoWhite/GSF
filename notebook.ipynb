{
 "cells": [
  {
   "cell_type": "code",
   "execution_count": 9,
   "metadata": {},
   "outputs": [],
   "source": [
    "import argparse\n",
    "import os\n",
    "import time\n",
    "import shutil\n",
    "import torch.multiprocessing as mp\n",
    "import torch.nn.parallel\n",
    "import torch.nn as nn\n",
    "import torch.backends.cudnn as cudnn\n",
    "import torch.optim\n",
    "from torch.nn.utils import clip_grad_norm_\n",
    "from torch.utils.tensorboard import SummaryWriter\n",
    "from models import VideoModel\n",
    "from utils.transforms import *\n",
    "from utils.opts import parser\n",
    "import utils.CosineAnnealingLR as CosineAnnealingLR\n",
    "import utils.datasets_video as datasets_video\n",
    "from utils.dataset import VideoDataset\n",
    "from datetime import datetime\n",
    "import os\n",
    "import numpy\n",
    "import pickle as pkl\n",
    "from torch.cuda import amp"
   ]
  },
  {
   "cell_type": "code",
   "execution_count": 12,
   "metadata": {},
   "outputs": [
    {
     "name": "stdout",
     "output_type": "stream",
     "text": [
      "\n",
      "    Initializing Video Model with backbone: bninception.\n",
      "    Model Configurations:\n",
      "                        GSF:                True\n",
      "                        Channel ratio:      100\n",
      "                        num_segments:       8\n",
      "                        consensus_module:   avg\n",
      "                        dropout_ratio:      0.5\n",
      "            \n",
      "No. of GSF modules = 10\n"
     ]
    }
   ],
   "source": [
    "model = VideoModel(num_class=174, num_segments=8,\n",
    "                    base_model='bninception', consensus_type='avg', dropout=0.5,\n",
    "                    gsf=True, gsf_ch_ratio=100,\n",
    "                    target_transform=None)"
   ]
  },
  {
   "cell_type": "code",
   "execution_count": 13,
   "metadata": {},
   "outputs": [
    {
     "data": {
      "text/plain": [
       "<All keys matched successfully>"
      ]
     },
     "execution_count": 13,
     "metadata": {},
     "output_type": "execute_result"
    }
   ],
   "source": [
    "# lead pretrained weights\n",
    "checkpoint = torch.load(\"../something-v1_bninception_16frames.pth.tar\", map_location=torch.device('mps'))\n",
    "\n",
    "base_dict = {'.'.join(k.split('.')[1:]): v for k,v in list(checkpoint['model_state_dict'].items())}\n",
    "model.load_state_dict(base_dict, strict=True)"
   ]
  },
  {
   "cell_type": "code",
   "execution_count": 14,
   "metadata": {},
   "outputs": [],
   "source": [
    "# freeze layers\n",
    "for param in model.parameters():\n",
    "    param.requires_grad = False"
   ]
  },
  {
   "cell_type": "code",
   "execution_count": 15,
   "metadata": {},
   "outputs": [
    {
     "data": {
      "text/plain": [
       "1024"
      ]
     },
     "execution_count": 15,
     "metadata": {},
     "output_type": "execute_result"
    }
   ],
   "source": [
    "# get num features of last layer\n",
    "num_ftrs = model.new_fc.in_features\n",
    "num_ftrs"
   ]
  },
  {
   "cell_type": "code",
   "execution_count": 16,
   "metadata": {},
   "outputs": [],
   "source": [
    "# rewrite last layer to be trained\n",
    "model.new_fc = nn.Linear(num_ftrs, 4)"
   ]
  }
 ],
 "metadata": {
  "kernelspec": {
   "display_name": "Python 3",
   "language": "python",
   "name": "python3"
  },
  "language_info": {
   "codemirror_mode": {
    "name": "ipython",
    "version": 3
   },
   "file_extension": ".py",
   "mimetype": "text/x-python",
   "name": "python",
   "nbconvert_exporter": "python",
   "pygments_lexer": "ipython3",
   "version": "3.8.12"
  },
  "orig_nbformat": 4
 },
 "nbformat": 4,
 "nbformat_minor": 2
}
